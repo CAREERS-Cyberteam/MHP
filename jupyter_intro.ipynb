{
 "cells": [
  {
   "cell_type": "code",
   "execution_count": 4,
   "metadata": {
    "collapsed": false
   },
   "outputs": [],
   "source": [
    "import mhp"
   ]
  },
  {
   "cell_type": "code",
   "execution_count": 9,
   "metadata": {},
   "outputs": [
    {
     "ename": "ImportError",
     "evalue": "cannot import name 'rdBase' from partially initialized module 'rdkit' (most likely due to a circular import) (c:\\Users\\sande\\anaconda3\\envs\\mhp-env\\lib\\site-packages\\rdkit\\__init__.py)",
     "output_type": "error",
     "traceback": [
      "\u001b[1;31m---------------------------------------------------------------------------\u001b[0m",
      "\u001b[1;31mImportError\u001b[0m                               Traceback (most recent call last)",
      "Cell \u001b[1;32mIn [9], line 3\u001b[0m\n\u001b[0;32m      1\u001b[0m \u001b[38;5;28;01mfrom\u001b[39;00m \u001b[38;5;21;01mmhp\u001b[39;00m \u001b[38;5;28;01mimport\u001b[39;00m MakePolymer\n\u001b[0;32m      2\u001b[0m \u001b[38;5;28;01mimport\u001b[39;00m \u001b[38;5;21;01mmhp\u001b[39;00m\u001b[38;5;21;01m.\u001b[39;00m\u001b[38;5;21;01mrandom_polymer_to_mol_file\u001b[39;00m \u001b[38;5;28;01mas\u001b[39;00m \u001b[38;5;21;01mrandPol\u001b[39;00m\n\u001b[1;32m----> 3\u001b[0m \u001b[38;5;28;01mimport\u001b[39;00m \u001b[38;5;21;01mrdkit\u001b[39;00m\n\u001b[0;32m      4\u001b[0m \u001b[38;5;28;01mfrom\u001b[39;00m \u001b[38;5;21;01mrdkit\u001b[39;00m \u001b[38;5;28;01mimport\u001b[39;00m Chem\n\u001b[0;32m      5\u001b[0m \u001b[38;5;28;01mfrom\u001b[39;00m \u001b[38;5;21;01mrdkit\u001b[39;00m\u001b[38;5;21;01m.\u001b[39;00m\u001b[38;5;21;01mChem\u001b[39;00m \u001b[38;5;28;01mimport\u001b[39;00m AllChem, Draw, Descriptors, rdFreeSASA\n",
      "File \u001b[1;32mc:\\Users\\sande\\anaconda3\\envs\\mhp-env\\lib\\site-packages\\rdkit\\__init__.py:6\u001b[0m\n\u001b[0;32m      2\u001b[0m \u001b[39mimport\u001b[39;00m \u001b[39msys\u001b[39;00m\n\u001b[0;32m      4\u001b[0m \u001b[39m# Need to import rdBase to properly wrap exceptions\u001b[39;00m\n\u001b[0;32m      5\u001b[0m \u001b[39m# otherwise they will leak memory\u001b[39;00m\n\u001b[1;32m----> 6\u001b[0m \u001b[39mfrom\u001b[39;00m \u001b[39m.\u001b[39;00m \u001b[39mimport\u001b[39;00m rdBase\n\u001b[0;32m      8\u001b[0m \u001b[39mtry\u001b[39;00m:\n\u001b[0;32m      9\u001b[0m   \u001b[39mfrom\u001b[39;00m \u001b[39m.\u001b[39;00m\u001b[39mrdBase\u001b[39;00m \u001b[39mimport\u001b[39;00m rdkitVersion \u001b[39mas\u001b[39;00m __version__\n",
      "\u001b[1;31mImportError\u001b[0m: cannot import name 'rdBase' from partially initialized module 'rdkit' (most likely due to a circular import) (c:\\Users\\sande\\anaconda3\\envs\\mhp-env\\lib\\site-packages\\rdkit\\__init__.py)"
     ]
    }
   ],
   "source": [
    "from mhp import MakePolymer\n",
    "import mhp.random_polymer_to_mol_file as randPol\n",
    "import rdkit\n",
    "from rdkit import Chem\n",
    "from rdkit.Chem import AllChem, Draw, Descriptors, rdFreeSASA"
   ]
  },
  {
   "cell_type": "code",
   "execution_count": 11,
   "metadata": {},
   "outputs": [
    {
     "ename": "ImportError",
     "evalue": "cannot import name 'rdBase' from partially initialized module 'rdkit' (most likely due to a circular import) (c:\\Users\\sande\\anaconda3\\envs\\mhp-env\\lib\\site-packages\\rdkit\\__init__.py)",
     "output_type": "error",
     "traceback": [
      "\u001b[1;31m---------------------------------------------------------------------------\u001b[0m",
      "\u001b[1;31mImportError\u001b[0m                               Traceback (most recent call last)",
      "Cell \u001b[1;32mIn [11], line 1\u001b[0m\n\u001b[1;32m----> 1\u001b[0m \u001b[38;5;28;01mimport\u001b[39;00m \u001b[38;5;21;01mrdkit\u001b[39;00m\u001b[38;5;21;01m.\u001b[39;00m\u001b[38;5;21;01mChem\u001b[39;00m\n",
      "File \u001b[1;32mc:\\Users\\sande\\anaconda3\\envs\\mhp-env\\lib\\site-packages\\rdkit\\__init__.py:6\u001b[0m\n\u001b[0;32m      2\u001b[0m \u001b[39mimport\u001b[39;00m \u001b[39msys\u001b[39;00m\n\u001b[0;32m      4\u001b[0m \u001b[39m# Need to import rdBase to properly wrap exceptions\u001b[39;00m\n\u001b[0;32m      5\u001b[0m \u001b[39m# otherwise they will leak memory\u001b[39;00m\n\u001b[1;32m----> 6\u001b[0m \u001b[39mfrom\u001b[39;00m \u001b[39m.\u001b[39;00m \u001b[39mimport\u001b[39;00m rdBase\n\u001b[0;32m      8\u001b[0m \u001b[39mtry\u001b[39;00m:\n\u001b[0;32m      9\u001b[0m   \u001b[39mfrom\u001b[39;00m \u001b[39m.\u001b[39;00m\u001b[39mrdBase\u001b[39;00m \u001b[39mimport\u001b[39;00m rdkitVersion \u001b[39mas\u001b[39;00m __version__\n",
      "\u001b[1;31mImportError\u001b[0m: cannot import name 'rdBase' from partially initialized module 'rdkit' (most likely due to a circular import) (c:\\Users\\sande\\anaconda3\\envs\\mhp-env\\lib\\site-packages\\rdkit\\__init__.py)"
     ]
    }
   ],
   "source": [
    "import rdkit.Chem"
   ]
  },
  {
   "cell_type": "code",
   "execution_count": null,
   "metadata": {},
   "outputs": [],
   "source": []
  }
 ],
 "metadata": {
  "kernelspec": {
   "display_name": "Python 3.10.6 ('mhp-env')",
   "language": "python",
   "name": "python3"
  },
  "language_info": {
   "codemirror_mode": {
    "name": "ipython",
    "version": 3
   },
   "file_extension": ".py",
   "mimetype": "text/x-python",
   "name": "python",
   "nbconvert_exporter": "python",
   "pygments_lexer": "ipython3",
   "version": "3.10.6"
  },
  "vscode": {
   "interpreter": {
    "hash": "1d2b4d4e600467d4e6a56430071f781287b41d2c6f3ba55c449c62f7d877e9f7"
   }
  }
 },
 "nbformat": 4,
 "nbformat_minor": 4
}
