{
 "cells": [
  {
   "cell_type": "code",
   "execution_count": 1,
   "metadata": {
    "collapsed": false
   },
   "outputs": [
   ],
   "source": [
    "from rdkit.Chem import AllChem\n",
    "from rdkit import Chem\n",
    "from rdkit.Chem import Descriptors\n",
    "from rdkit.Chem import rdMolDescriptors"
   ]
  },
  {
   "cell_type": "code",
   "execution_count": 2,
   "metadata": {
    "collapsed": false
   },
   "outputs": [
   ],
   "source": [
    "#monomers for polyamides\n",
    "amide_dict={'Nylon6': 'CCCCCC(=O)N'\n",
    "}\n",
    "\n",
    "#monomers and comonomers for polycarbonates\n",
    "carbonate_dict={'BPA_Carbonate':  'c1ccc(cc1)C(C)(C)c1ccc(cc1)OC(=O)O'\n",
    "}\n",
    "\n",
    "#monomers and comonomers for polyesters\n",
    "ester_dict={'Butylene_Adip': 'C(=O)CCCCC(=O)OCCCCO',\n",
    "          'Butylene_Succinate': 'C(=O)CCC(=O)OCCCCO', \n",
    "          'Butylene_Terephthalate': 'CCCCOC(=O)c1ccc(cc1)C(=O)O',\n",
    "          'Ethylene_Terephthalate': 'CCOC(=O)c1ccc(cc1)C(=O)O', \n",
    "          '3HBV': 'C(CC)CC(=O)O', \n",
    "          '3HB': 'C(C)CC(=O)O',\n",
    "          'Lactic_acid': 'C(C)C(=O)O',\n",
    "}\n",
    "\n",
    "#monomers for polyethers\n",
    "ether_dict={'Ethylene_oxide': 'CCO',\n",
    "            'Propylene_oxide': 'CC(C)O'\n",
    "}\n",
    "\n",
    "#Vinyl monomers written to depict primary addition of alkene (i.e. substituent is on second carbon of alkene)\n",
    "vinyl_dict={'Butylacrylate': 'CC(C(=O)OCCCC)',\n",
    "          'Dimethylacrylamide': 'CC(C(=O)N(C)(C))',\n",
    "          'Ethylene': 'CC',\n",
    "          'Hydroxyethylmethacrylate': 'CC(C(=O)OCCO)(C)',\n",
    "          'Methylacrylate': 'CC(C(=O)OC)C',\n",
    "          'Methylmethacrylate': 'CC(C(=O)OC)(C)',\n",
    "          'Propylene': 'CC(C)',\n",
    "          'Styrene': 'CC(c1ccccc1)',\n",
    "          'Vinylalcohol': 'CC(O)'\n",
    "}\n",
    "\n",
    "#initiator dictionary (i.e. endgroup of polymer chain)\n",
    "init_dict={'Benzyl': 'c1ccccc1CO', \n",
    "           'Butyl': 'CCCC',\n",
    "           'Hydroxyl': 'O', \n",
    "           'Hydrogen': '',\n",
    "           'Methoxy': 'CO', \n",
    "           'Methyl': 'C', \n",
    "           'Vinyl': 'C=C'}"
   ]
  },
  {
   "cell_type": "code",
   "execution_count": 3,
   "metadata": {
    "collapsed": false
   },
   "outputs": [
    {
     "data": {
      "text/plain": [
       "'CC(O)CC(O)CC(O)CC(O)CC(O)'"
      ]
     },
     "execution_count": 3,
     "metadata": {
     },
     "output_type": "execute_result"
    }
   ],
   "source": [
    "#enter number of monomers\n",
    "n=5\n",
    "\n",
    "#choose type of initiating group\n",
    "init=init_dict['Hydrogen']  \n",
    "\n",
    "#choose monomer composition\n",
    "comp = 'Vinylalcohol'\n",
    "N1=vinyl_dict[comp]\n",
    "\n",
    "def Polymer1(n):\n",
    "    n_mer = init+(N1*n)\n",
    "    return n_mer\n",
    "Polymer1(n)"
   ]
  },
  {
   "cell_type": "code",
   "execution_count": 4,
   "metadata": {
    "collapsed": false
   },
   "outputs": [
    {
     "data": {
      "text/plain": [
       "1"
      ]
     },
     "execution_count": 4,
     "metadata": {
     },
     "output_type": "execute_result"
    }
   ],
   "source": [
    "#add hydrogens and optimize geometry\n",
    "mol = Chem.MolFromSmiles(Polymer1(n)) #convert SMILES string to molecule\n",
    "mol_h = Chem.AddHs(mol) #add hydrogens\n",
    "AllChem.EmbedMolecule(mol_h,randomSeed=0xf00d)   # optional random seed for reproducibility\n",
    "AllChem.MMFFOptimizeMolecule(mol_h) #performed MMFF"
   ]
  },
  {
   "cell_type": "code",
   "execution_count": 5,
   "metadata": {
    "collapsed": false
   },
   "outputs": [
    {
     "data": {
      "text/plain": [
       "3.304076738594183"
      ]
     },
     "execution_count": 5,
     "metadata": {
     },
     "output_type": "execute_result"
    }
   ],
   "source": [
    "#Calculate Radius of Gyration\n",
    "Chem.rdMolDescriptors.CalcRadiusOfGyration(mol_h)"
   ]
  },
  {
   "cell_type": "code",
   "execution_count": 6,
   "metadata": {
    "collapsed": false
   },
   "outputs": [
    {
     "data": {
      "text/plain": [
       "3.304076738594183"
      ]
     },
     "execution_count": 6,
     "metadata": {
     },
     "output_type": "execute_result"
    }
   ],
   "source": [
    "#Calculate Radius of Gyration\n",
    "Chem.Descriptors3D.RadiusOfGyration(mol_h)"
   ]
  }
 ],
 "metadata": {
  "kernelspec": {
   "display_name": "Anaconda (RDkit)",
   "language": "python",
   "metadata": {
    "debugger": true
   },
   "name": "my-rdkit-env",
   "resource_dir": "/usr/local/share/jupyter/kernels/my-rdkit-env"
  },
  "language_info": {
   "codemirror_mode": {
    "name": "ipython",
    "version": 3
   },
   "file_extension": ".py",
   "mimetype": "text/x-python",
   "name": "python",
   "nbconvert_exporter": "python",
   "pygments_lexer": "ipython3",
   "version": "3.7.10"
  }
 },
 "nbformat": 4,
 "nbformat_minor": 4
}