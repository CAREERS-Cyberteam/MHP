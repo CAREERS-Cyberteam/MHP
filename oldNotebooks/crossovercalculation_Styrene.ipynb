{
 "cells": [
  {
   "cell_type": "code",
   "execution_count": 2,
   "metadata": {
    "collapsed": false
   },
   "outputs": [
    {
     "name": "stdout",
     "output_type": "stream",
     "text": [
      "2\n"
     ]
    },
    {
     "data": {
      "image/png": "[encoded data removed]",
      "text/plain": [
       "<Figure size 432x288 with 1 Axes>"
      ]
     },
     "execution_count": null,
     "metadata": {
      "needs_background": "light"
     },
     "output_type": "execute_result"
    }
   ],
   "source": [
    "from ..crossover import functionality as f\n",
    "from ..crossover import crossoverpatchup as c\n",
    "\n",
    "x=[2,3,4,5,6,7,8,9,10,11] #number of monomer units\n",
    "y=[0.01356955, 0.01401028, 0.01426496, 0.01450052, 0.01476517, 0.01485014, 0.01478629, 0.01498735, 0.01489938, 0.01497248] #LogP/SA values for polystyrene\n",
    "\n",
    "y2=[0.0033,0.0037,0.0038,0.0039,0.0042,0.0040,0.0040]\n",
    "c.crossover(x,y,0,1)\n"
   ]
  },
  {
   "cell_type": "code",
   "execution_count": 9,
   "metadata": {
    "collapsed": false
   },
   "outputs": [
    {
     "name": "stdout",
     "output_type": "stream",
     "text": [
      "[1.41421356 1.73205081 2.         2.23606798 2.44948974 2.64575131\n",
      " 2.82842712 3.         3.16227766 3.31662479]\n",
      "[0.69314718 1.09861229 1.38629436 1.60943791 1.79175947 1.94591015\n",
      " 2.07944154 2.19722458 2.30258509 2.39789527]\n"
     ]
    }
   ],
   "source": [
    "import numpy as np\n",
    "x_sqrt = np.sqrt(x)\n",
    "log_x = np.log(x)\n",
    "\n",
    "print(x_sqrt)\n",
    "print(log_x)"
   ]
  },
  {
   "cell_type": "code",
   "execution_count": 10,
   "metadata": {
    "collapsed": false
   },
   "outputs": [
    {
     "name": "stdout",
     "output_type": "stream",
     "text": [
      "2\n"
     ]
    },
    {
     "data": {
      "image/png": "[encoded data removed]",
      "text/plain": [
       "<Figure size 432x288 with 1 Axes>"
      ]
     },
     "execution_count": null,
     "metadata": {
      "needs_background": "light"
     },
     "output_type": "execute_result"
    }
   ],
   "source": [
    "c.crossover(x_sqrt,y,0,1) #graphing LogP/SA versus N^1/2"
   ]
  },
  {
   "cell_type": "code",
   "execution_count": 11,
   "metadata": {
    "collapsed": false
   },
   "outputs": [
    {
     "name": "stdout",
     "output_type": "stream",
     "text": [
      "3\n"
     ]
    },
    {
     "data": {
      "image/png": "[encoded data removed]",
      "text/plain": [
       "<Figure size 432x288 with 1 Axes>"
      ]
     },
     "execution_count": null,
     "metadata": {
      "needs_background": "light"
     },
     "output_type": "execute_result"
    }
   ],
   "source": [
    "c.crossover(log_x, y, 0, 1) #graphing LogP/SA versus LogN"
   ]
  }
 ],
 "metadata": {
  "interpreter": {
   "hash": "9d1794fa44db9ea3ea9450bc114bc07115860d1fdaf16e45976239ef01a53be6"
  },
  "kernelspec": {
   "display_name": "Python 3.9.10 ('my-rdkit-env')",
   "language": "python",
   "name": "python3"
  },
  "language_info": {
   "codemirror_mode": {
    "name": "ipython",
    "version": 3
   },
   "file_extension": ".py",
   "mimetype": "text/x-python",
   "name": "python",
   "nbconvert_exporter": "python",
   "pygments_lexer": "ipython3",
   "version": "3.9.10"
  }
 },
 "nbformat": 4,
 "nbformat_minor": 4
}
