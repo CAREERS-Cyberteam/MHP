{
 "cells": [
  {
   "cell_type": "code",
   "execution_count": 24,
   "metadata": {
    "collapsed": false
   },
   "outputs": [
   ],
   "source": [
    "#LogP/SA calculator"
   ]
  },
  {
   "cell_type": "code",
   "execution_count": 25,
   "metadata": {
    "collapsed": false
   },
   "outputs": [
   ],
   "source": [
    "from rdkit.Chem import AllChem\n",
    "from rdkit import Chem\n",
    "from rdkit.Chem import Descriptors\n",
    "from rdkit.Chem import Draw\n",
    "from rdkit.Chem import PandasTools\n",
    "from rdkit.Chem import rdMolDescriptors\n",
    "import random\n",
    "from rdkit.Chem import rdFreeSASA\n",
    "#from rdkit.Chem.Draw import IPythonConsole"
   ]
  },
  {
   "cell_type": "code",
   "execution_count": 26,
   "metadata": {
    "collapsed": false
   },
   "outputs": [
   ],
   "source": [
    "#monomers for polyamides\n",
    "amide_dict={'Nylon6': 'CCCCCC(=O)N'\n",
    "}\n",
    "\n",
    "#monomers and comonomers for polycarbonates\n",
    "carbonate_dict={'BPA_Carbonate':  'c1ccc(cc1)C(C)(C)c1ccc(cc1)OC(=O)O'\n",
    "}\n",
    "\n",
    "#monomers and comonomers for polyesters\n",
    "ester_dict={'Butylene_Adip': 'C(=O)CCCCC(=O)OCCCCO',\n",
    "          'Butylene_Succinate': 'C(=O)CCC(=O)OCCCCO', \n",
    "          'Butylene_Terephthalate': 'CCCCOC(=O)c1ccc(cc1)C(=O)O',\n",
    "          'Ethylene_Terephthalate': 'CCOC(=O)c1ccc(cc1)C(=O)O', \n",
    "          '3HBV': 'C(CC)CC(=O)O', \n",
    "          '3HB': 'C(C)CC(=O)O',\n",
    "          'Lactic_acid': 'C(C)C(=O)O',\n",
    "}\n",
    "\n",
    "#monomers for polyethers\n",
    "ether_dict={'Ethylene_oxide': 'CCO',\n",
    "            'Propylene_oxide': 'CC(C)O'\n",
    "}\n",
    "\n",
    "#Vinyl monomers written to depict primary addition of alkene (i.e. substituent is on second carbon of alkene)\n",
    "vinyl_dict={'Butylacrylate': 'CC(C(=O)OCCCC)',\n",
    "          'Dimethylacrylamide': 'CC(C(=O)N(C)(C))',\n",
    "          'Ethylene': 'CC',\n",
    "          'Hydroxyethylmethacrylate': 'CC(C(=O)OCCO)(C)',\n",
    "          'Methylacrylate': 'CC(C(=O)OC)C',\n",
    "          'Methylmethacrylate': 'CC(C(=O)OC)(C)',\n",
    "          'Propylene': 'CC(C)',\n",
    "          'Styrene': 'CC(c1ccccc1)',\n",
    "          'Vinylalcohol': 'CC(O)'\n",
    "}\n",
    "\n",
    "#initiator dictionary (i.e. endgroup of polymer chain)\n",
    "init_dict={'Benzyl': 'c1ccccc1CO', \n",
    "           'Butyl': 'CCCC',\n",
    "           'Hydroxyl': 'O', \n",
    "           'Hydrogen': '',\n",
    "           'Methoxy': 'CO', \n",
    "           'Methyl': 'C', \n",
    "           'Vinyl': 'C=C'}"
   ]
  },
  {
   "cell_type": "code",
   "execution_count": 27,
   "metadata": {
    "collapsed": false
   },
   "outputs": [
    {
     "data": {
      "text/plain": [
       "'CCCCCC(=O)NCCCCCC(=O)NCCCCCC(=O)NCCCCCC(=O)NCCCCCC(=O)N'"
      ]
     },
     "execution_count": 27,
     "metadata": {
     },
     "output_type": "execute_result"
    }
   ],
   "source": [
    "#Section 1\n",
    "#constructing SMILES string for polymers with one type of vinyl monomer unit\n",
    "\n",
    "#enter number of monomers\n",
    "n=5\n",
    "\n",
    "#choose type of initiating group\n",
    "init=init_dict['Hydrogen']  \n",
    "\n",
    "#choose monomer composition\n",
    "comp = 'Nylon6'\n",
    "N1=amide_dict[comp]\n",
    "\n",
    "def Polymer1(n):\n",
    "    n_mer = init+(N1*n)\n",
    "    return n_mer\n",
    "Polymer1(n)"
   ]
  },
  {
   "cell_type": "code",
   "execution_count": 28,
   "metadata": {
    "collapsed": false
   },
   "outputs": [
   ],
   "source": [
    "#construct SMIlES string for alternating copolymer\n",
    "\n",
    "##enter number of monomers\n",
    "#x=5\n",
    "#y=5\n",
    "\n",
    "#choose type of initiating group\n",
    "#initiator=init_dict['Hydroxyl']\n",
    "\n",
    "#choose monomer composition\n",
    "#X1=diacid_dict['Adipic_Acid']\n",
    "#Y1=diol_dict['Butane_Diol']\n",
    "\n",
    "#def Alt_copolymer(x):\n",
    "#    alt_copol=(X1+Y1)*x\n",
    "#    return alt_copol\n",
    "#Alt_copolymer(x)"
   ]
  },
  {
   "cell_type": "code",
   "execution_count": 29,
   "metadata": {
    "collapsed": false
   },
   "outputs": [
    {
     "data": {
      "image/png": "[encoded data removed]",
      "text/plain": [
       "<IPython.core.display.Image object>"
      ]
     },
     "execution_count": 29,
     "metadata": {
     },
     "output_type": "execute_result"
    }
   ],
   "source": [
    "#method to draw molecules\n",
    "\n",
    "mer_n = [Polymer1(n)]\n",
    "mol = [Chem.MolFromSmiles(mer_n) for mer_n in mer_n]\n",
    "Draw.MolsToGridImage(mol, molsPerRow=1, subImgSize=(1000, 1000))"
   ]
  },
  {
   "cell_type": "code",
   "execution_count": 7,
   "metadata": {
    "collapsed": false
   },
   "outputs": [
   ],
   "source": [
    "#Section 2\n",
    "#Workflow involves calculating LogP values and SASA for SMILES strings\n",
    "#Let's check if H's are added before energy minimization with MMFF (or UFF)"
   ]
  },
  {
   "cell_type": "code",
   "execution_count": 8,
   "metadata": {
    "collapsed": false
   },
   "outputs": [
   ],
   "source": [
    "# Get the ID of the best conformer given a molecule with conformers and a set of conformer IDs\n",
    "# Note that mol_h MUST be pre-populated with the desired conformers\n",
    "def GetBestConformerID(mol_h, ids, returnMinusOne=False):\n",
    "    best = []\n",
    "    for id in ids:\n",
    "        prop = AllChem.MMFFGetMoleculeProperties(mol_h)\n",
    "        ff = AllChem.MMFFGetMoleculeForceField(mol_h, prop, confId=id)\n",
    "        ff.Minimize()\n",
    "        en = float(ff.CalcEnergy())\n",
    "        econf = (en, id)\n",
    "        best.append(econf)\n",
    "    best.sort()\n",
    "    print(\"Found \"+str(len(best))+\" conformations.\")\n",
    "    if len(best) == 0 and returnMinusOne is True:\n",
    "        return -1\n",
    "    elif len(best) == 0:\n",
    "        raise Exception(\"Error: No valid conformations found for the molecule. Try increasing the number of conformations.\")\n",
    "    # The best conformer is the first tuple and the ID of that conformer is the second value in the tuple\n",
    "    best_id = int(best[0][1])\n",
    "    # Return the best ID\n",
    "    return best_id\n",
    "\n",
    "# Utility method to save a conformer to a file\n",
    "# Accepts a molecule, conformer ID, and filename\n",
    "# Note that this function has a HARDCODED PREFIX FOLDER that it saves files inside of.\n",
    "def SaveConformationToFile(molecule, confId=-1, filename=\"scratch\"):\n",
    "    # Hardcoded prefix where the files are saved - change if necessary\n",
    "    prefix = \"molecules/\"\n",
    "    if confId == -1:\n",
    "        raise Exception(\"You must provide a conformation ID to use this function.\")\n",
    "    # Get the conformation with the given ID\n",
    "    best_conf = Chem.MolToMolBlock(molecule,confId=confId)\n",
    "    # Open the file, write, then close the file.\n",
    "    f = open(prefix + filename, 'w+')\n",
    "    # MAKE SURE this doesn't just append to the file over and over again, which would be bad\n",
    "    f.write(best_conf)\n",
    "    f.close()\n",
    "    print(\"Successfully wrote conformation to file.\")\n",
    "    return prefix + filename\n",
    "\n",
    "# Given a SMILES string and other parameters, this function generates the required number of conformers and gets the LogP \n",
    "# and SASA for the best one\n",
    "# Calculates logP for the OVERALL MOLECULE since I couldn't work out how to do it for a conformer\n",
    "# DANGER - the output of this function is NOT 100% consistent; if you get your LogP and SASA from two different runs\n",
    "# you WILL run into problems. Get ALL your values at the SAME TIME.\n",
    "def GetLogPAndSASAForBestConformer(smiles, numThreads=1, numConfs=1000, randomSeed=1, filename=None, useRandomCoords=True,\n",
    "                                  returnMinusOne=False):\n",
    "    # File prefix - change if necessary\n",
    "    prefix = \"molecules/\",\n",
    "    # First process the SMILES string\n",
    "    mol = Chem.MolFromSmiles(smiles)\n",
    "    mol_h = Chem.AddHs(mol)\n",
    "    # Now generate the conformations\n",
    "    ids = AllChem.EmbedMultipleConfs(mol_h, numConfs=numConfs, randomSeed=randomSeed, useExpTorsionAnglePrefs=True,\n",
    "                                     numThreads=numThreads)\n",
    "    # Find the best one\n",
    "    try:\n",
    "        best_conf_id = GetBestConformerID(mol_h, ids)\n",
    "    except Exception as e:\n",
    "        if returnMinusOne is True:\n",
    "            return 0, 1\n",
    "        else:\n",
    "            raise e\n",
    "    print(\"Best conformer ID is \"+str(best_conf_id)+\".\")\n",
    "    if filename is not None and returnMinusOne is False:\n",
    "        # If filename given, save conformation to that file\n",
    "        SaveConformationToFile(mol_h, confId=best_conf_id, filename=filename)\n",
    "    elif best_conf_id == -1 and returnMinusOne is True:\n",
    "        return 0, 1\n",
    "    # Now calculate LogP and SASA\n",
    "    # Calculate SASA based on the best conformer\n",
    "    # classifyAtoms CRASHED when I tried it with , confIdx=best_conf_id\n",
    "    # but someone needs to go back and make sure it's actually OK to use it without\n",
    "    # and that that won't cause problems!\n",
    "    radii = rdFreeSASA.classifyAtoms(mol_h)\n",
    "    sasa = rdFreeSASA.CalcSASA(mol_h, radii, confIdx=best_conf_id)\n",
    "    # LogP does NOT have an option to feed in a conformer so just calculate it for the overall molecule\n",
    "    logP = Descriptors.MolLogP(mol_h)\n",
    "    # Now return LogP and SASA\n",
    "    return logP, sasa"
   ]
  },
  {
   "cell_type": "code",
   "execution_count": 9,
   "metadata": {
    "collapsed": false
   },
   "outputs": [
    {
     "name": "stdout",
     "output_type": "stream",
     "text": [
      "Nylon6_5mer.mol\n"
     ]
    }
   ],
   "source": [
    "file_name=comp+\"_\"+str(n)+\"mer\"+\".mol\" #name of mol file\n",
    "print(file_name)"
   ]
  },
  {
   "cell_type": "code",
   "execution_count": 10,
   "metadata": {
    "collapsed": false
   },
   "outputs": [
    {
     "data": {
      "text/plain": [
       "1"
      ]
     },
     "execution_count": 10,
     "metadata": {
     },
     "output_type": "execute_result"
    }
   ],
   "source": [
    "#save 3D molecule as .mol file\n",
    "mol = Chem.MolFromSmiles(Polymer1(n)) #convert SMILES string to molecule\n",
    "mol_h = Chem.AddHs(mol) #add hydrogens\n",
    "AllChem.EmbedMolecule(mol_h,randomSeed=0xf00d)   # optional random seed for reproducibility\n",
    "AllChem.MMFFOptimizeMolecule(mol_h) #performed MMFF\n",
    "#print(Chem.MolToMolBlock(mol_h))\n",
    "#print(Chem.MolToMolBlock(mol_h),file=open(\"molecules/\"+file_name,'w+')) #open and write to the file\n",
    "\n",
    "#GetBestConformationAndSave(Polymer1(n),numConfs=10,numThreads=5)"
   ]
  },
  {
   "cell_type": "code",
   "execution_count": 11,
   "metadata": {
    "collapsed": false
   },
   "outputs": [
    {
     "data": {
      "text/plain": [
       "589.0000000000001"
      ]
     },
     "execution_count": 11,
     "metadata": {
     },
     "output_type": "execute_result"
    }
   ],
   "source": [
    "#Calculate the molecular volume\n",
    "Chem.AllChem.ComputeMolVolume(mol_h, confId=- 1, gridSpacing=0.2, boxMargin=2.0)"
   ]
  },
  {
   "cell_type": "code",
   "execution_count": 12,
   "metadata": {
    "collapsed": false
   },
   "outputs": [
    {
     "name": "stdout",
     "output_type": "stream",
     "text": [
      "(-120.92305890550224, 3)\n",
      "[(-120.92305890550224, 3), (-118.79649877716557, 2), (-116.91066596533204, 9), (-115.4353548826765, 5), (-114.96969588184311, 1), (-114.25346051515321, 7), (-113.399925857061, 8), (-112.10663287859047, 4), (-111.12016956366136, 6), (-104.97995005351208, 0)]\n"
     ]
    }
   ],
   "source": [
    "ids = AllChem.EmbedMultipleConfs(mol_h, numConfs=10, randomSeed=1, useExpTorsionAnglePrefs=True, numThreads=6)\n",
    "best=[]\n",
    "for id in ids:\n",
    "\tprop = AllChem.MMFFGetMoleculeProperties(mol_h)\n",
    "\tff = AllChem.MMFFGetMoleculeForceField(mol_h, prop, confId=id)\n",
    "\tff.Minimize()\n",
    "\ten = float(ff.CalcEnergy())\n",
    "\teconf = (en, id)\n",
    "\tbest.append(econf)\n",
    "best.sort()\n",
    "print(best[0])\n",
    "print(best)\n"
   ]
  },
  {
   "cell_type": "code",
   "execution_count": 13,
   "metadata": {
    "collapsed": false
   },
   "outputs": [
   ],
   "source": [
    "#Helper functions for SASA\n",
    "\n",
    "def smiles_to_rdkit(inputSMILES):\n",
    "    # create fake building block so we can use STK to convert to an RDKit molecule\n",
    "\tmol = Chem.MolFromSmiles(inputSMILES)\n",
    "\tmol_h = Chem.AddHs(mol) #add hydrogens\n",
    "\tAllChem.EmbedMolecule(mol_h,randomSeed=0xf00d,useRandomCoords=True)   # optional random seed for reproducibility\n",
    "\tAllChem.MMFFOptimizeMolecule(mol_h, maxIters=10000) #performed MMFF\n",
    "\treturn mol_h\n",
    "\n",
    "# convert SMILES string to RDKit molecule\n",
    "#def smiles_to_rdkit(inputSMILES):\n",
    "#    # create fake building block so we can use STK to convert to an RDKit molecule\n",
    "#    bb_from_smiles = stk.BuildingBlock(inputSMILES)\n",
    "#    rdkit_mol = bb_from_smiles.to_rdkit_mol()\n",
    "#    Chem.rdmolops.SanitizeMol(rdkit_mol3)\n",
    "    # add hydrogens\n",
    "#    rdkit_mol_with_H = Chem.rdmolops.AddHs(rdkit_mol)\n",
    "    # or not...\n",
    "#    rdkit_mol_with_H = rdkit_mol\n",
    "    # not sure what order addHs/sanitizing needs to run in so we will just be wasteful\n",
    "#    Chem.rdmolops.SanitizeMol(rdkit_mol_with_H)\n",
    "    # optimize with MMFF (or UFF)\n",
    "#   Chem.AllChem.MMFFOptimizeMolecule(rdkit_mol_with_H, maxIters=20000) #default settings for maxIters is 200\n",
    "#    return rdkit_mol_with_H\n",
    "\n",
    "# calculate SASA given SMILES string\n",
    "def sasa_from_smiles(inputSMILES):\n",
    "    mol_h = smiles_to_rdkit(inputSMILES)\n",
    "    radii = rdFreeSASA.classifyAtoms(mol_h)\n",
    "    sasa = rdFreeSASA.CalcSASA(mol_h, radii)\n",
    "    return sasa"
   ]
  },
  {
   "cell_type": "code",
   "execution_count": 14,
   "metadata": {
    "collapsed": false
   },
   "outputs": [
    {
     "name": "stdout",
     "output_type": "stream",
     "text": [
      "LogP with hydrogens is: 3.7584000000000044\n",
      "LogP without hydrogens is: -3.7998000000000003\n"
     ]
    }
   ],
   "source": [
    "#LogP values for n-mer\n",
    "\n",
    "z=Chem.MolFromSmiles(Polymer1(n))\n",
    "print('LogP with hydrogens is: '+ str(Descriptors.MolLogP(z, includeHs=True)))\n",
    "\n",
    "z_no_Hs=Chem.MolFromSmiles(Polymer1(n))\n",
    "print('LogP without hydrogens is: '+ str(Descriptors.MolLogP(z_no_Hs, includeHs=False)))"
   ]
  },
  {
   "cell_type": "code",
   "execution_count": 15,
   "metadata": {
    "collapsed": false,
    "scrolled": true
   },
   "outputs": [
    {
     "name": "stdout",
     "output_type": "stream",
     "text": [
      "Beginning test for 1\n",
      "CCCCCC(=O)N\n",
      "Successfully tested 1\n",
      "Beginning test for 2\n",
      "CCCCCC(=O)NCCCCCC(=O)N\n"
     ]
    },
    {
     "name": "stdout",
     "output_type": "stream",
     "text": [
      "Successfully tested 2\n",
      "LogP for n = 2 : 1.7286\n"
     ]
    },
    {
     "name": "stdout",
     "output_type": "stream",
     "text": [
      "SASA for n = 2 : 376.17421439446684\n"
     ]
    },
    {
     "name": "stdout",
     "output_type": "stream",
     "text": [
      "LogP/SA for n = 2 : 0.004595211297995405\n",
      "LogP for n = 3 : 2.4052000000000007\n"
     ]
    },
    {
     "name": "stdout",
     "output_type": "stream",
     "text": [
      "SASA for n = 3 : 531.016883696174\n"
     ]
    },
    {
     "name": "stdout",
     "output_type": "stream",
     "text": [
      "LogP/SA for n = 3 : 0.0045294228372899665\n",
      "LogP for n = 4 : 3.081800000000002\n"
     ]
    },
    {
     "name": "stdout",
     "output_type": "stream",
     "text": [
      "SASA for n = 4 : 713.606446135372\n"
     ]
    },
    {
     "name": "stdout",
     "output_type": "stream",
     "text": [
      "LogP/SA for n = 4 : 0.0043186269079965416\n",
      "LogP for n = 5 : 3.7584000000000044\n"
     ]
    },
    {
     "name": "stdout",
     "output_type": "stream",
     "text": [
      "SASA for n = 5 : 862.7327553675683\n"
     ]
    },
    {
     "name": "stdout",
     "output_type": "stream",
     "text": [
      "LogP/SA for n = 5 : 0.004356389596450101\n"
     ]
    }
   ],
   "source": [
    "#TESTING\n",
    "testv = 1\n",
    "while testv <= 2:\n",
    "    print(\"Beginning test for \"+str(testv))\n",
    "    print(Polymer1(testv))\n",
    "    try:\n",
    "        testf = smiles_to_rdkit(Polymer1(testv))\n",
    "        print(\"Successfully tested \"+str(testv))\n",
    "    except:\n",
    "        print(\"Testing for \"+str(testv)+\" failed\")\n",
    "    testv += 1\n",
    "\n",
    "y=2\n",
    "while y <= n:\n",
    "    print (\"LogP for n =\", y, \":\", Descriptors.MolLogP(Chem.MolFromSmiles(Polymer1(y))))\n",
    "    print(\"SASA for n =\", y, \":\", sasa_from_smiles(Polymer1(y)))\n",
    "    print(\"LogP/SA for n =\", y, \":\", (Descriptors.MolLogP(Chem.MolFromSmiles(Polymer1(y)))/(sasa_from_smiles(Polymer1(y)))))\n",
    "    y+=1"
   ]
  },
  {
   "cell_type": "code",
   "execution_count": 16,
   "metadata": {
    "collapsed": false
   },
   "outputs": [
    {
     "name": "stdout",
     "output_type": "stream",
     "text": [
      "CCCCCC(=O)N\n"
     ]
    },
    {
     "name": "stdout",
     "output_type": "stream",
     "text": [
      "Found 100 conformations.\n",
      "Best conformer ID is 76.\n",
      "Successfully wrote conformation to file.\n",
      "CCCCCC(=O)NCCCCCC(=O)N\n"
     ]
    },
    {
     "name": "stdout",
     "output_type": "stream",
     "text": [
      "Found 100 conformations.\n",
      "Best conformer ID is 73.\n",
      "Successfully wrote conformation to file.\n",
      "CCCCCC(=O)NCCCCCC(=O)NCCCCCC(=O)N\n"
     ]
    },
    {
     "name": "stdout",
     "output_type": "stream",
     "text": [
      "Found 100 conformations.\n",
      "Best conformer ID is 13.\n",
      "Successfully wrote conformation to file.\n"
     ]
    },
    {
     "name": "stdout",
     "output_type": "stream",
     "text": [
      "CCCCCC(=O)NCCCCCC(=O)NCCCCCC(=O)NCCCCCC(=O)N\n"
     ]
    },
    {
     "name": "stdout",
     "output_type": "stream",
     "text": [
      "Found 100 conformations.\n",
      "Best conformer ID is 58.\n",
      "Successfully wrote conformation to file.\n"
     ]
    },
    {
     "name": "stdout",
     "output_type": "stream",
     "text": [
      "CCCCCC(=O)NCCCCCC(=O)NCCCCCC(=O)NCCCCCC(=O)NCCCCCC(=O)N\n"
     ]
    },
    {
     "name": "stdout",
     "output_type": "stream",
     "text": [
      "Found 100 conformations.\n",
      "Best conformer ID is 42.\n",
      "Successfully wrote conformation to file.\n"
     ]
    },
    {
     "name": "stdout",
     "output_type": "stream",
     "text": [
      "CCCCCC(=O)NCCCCCC(=O)NCCCCCC(=O)NCCCCCC(=O)NCCCCCC(=O)NCCCCCC(=O)N\n"
     ]
    },
    {
     "name": "stdout",
     "output_type": "stream",
     "text": [
      "Found 100 conformations.\n",
      "Best conformer ID is 37.\n",
      "Successfully wrote conformation to file.\n"
     ]
    },
    {
     "name": "stdout",
     "output_type": "stream",
     "text": [
      "CCCCCC(=O)NCCCCCC(=O)NCCCCCC(=O)NCCCCCC(=O)NCCCCCC(=O)NCCCCCC(=O)NCCCCCC(=O)N\n"
     ]
    },
    {
     "name": "stdout",
     "output_type": "stream",
     "text": [
      "Found 98 conformations.\n",
      "Best conformer ID is 21.\n",
      "Successfully wrote conformation to file.\n"
     ]
    },
    {
     "name": "stdout",
     "output_type": "stream",
     "text": [
      "CCCCCC(=O)NCCCCCC(=O)NCCCCCC(=O)NCCCCCC(=O)NCCCCCC(=O)NCCCCCC(=O)NCCCCCC(=O)NCCCCCC(=O)N\n"
     ]
    },
    {
     "name": "stdout",
     "output_type": "stream",
     "text": [
      "Found 84 conformations.\n",
      "Best conformer ID is 7.\n",
      "Successfully wrote conformation to file.\n"
     ]
    },
    {
     "name": "stdout",
     "output_type": "stream",
     "text": [
      "CCCCCC(=O)NCCCCCC(=O)NCCCCCC(=O)NCCCCCC(=O)NCCCCCC(=O)NCCCCCC(=O)NCCCCCC(=O)NCCCCCC(=O)NCCCCCC(=O)N\n"
     ]
    },
    {
     "name": "stdout",
     "output_type": "stream",
     "text": [
      "Found 41 conformations.\n",
      "Best conformer ID is 7.\n",
      "Successfully wrote conformation to file.\n"
     ]
    },
    {
     "name": "stdout",
     "output_type": "stream",
     "text": [
      "CCCCCC(=O)NCCCCCC(=O)NCCCCCC(=O)NCCCCCC(=O)NCCCCCC(=O)NCCCCCC(=O)NCCCCCC(=O)NCCCCCC(=O)NCCCCCC(=O)NCCCCCC(=O)N\n"
     ]
    },
    {
     "name": "stdout",
     "output_type": "stream",
     "text": [
      "Found 21 conformations.\n",
      "Best conformer ID is 16.\n",
      "Successfully wrote conformation to file.\n"
     ]
    },
    {
     "name": "stdout",
     "output_type": "stream",
     "text": [
      "length of oligomers: [1, 2, 3, 4, 5, 6, 7, 8, 9, 10]\n",
      "LogP values: [1.052, 1.7286, 2.4052000000000007, 3.081800000000002, 3.7584000000000044, 4.435000000000006, 5.111600000000008, 5.7882000000000104, 6.464800000000013, 7.141400000000015]\n",
      "Surface areas: [206.6925057280428, 369.8199742976483, 532.6578667176307, 721.107614238558, 882.5633661695402, 1046.5505321615533, 1232.626123377676, 1405.160455768095, 1576.6305906160728, 1757.4180869383592]\n",
      "Old surface areas: [203.77204261448406, 376.17421439446684, 531.016883696174, 713.606446135372, 862.7327553675683, 1021.9818714991899, 1166.4549241955954, 1349.4172575775037, 1523.3464339040288, 1690.3164223699682]\n"
     ]
    }
   ],
   "source": [
    "#create an array of LogP values\n",
    "#and SASA values\n",
    "LogP_Polymer1 = []#LogP\n",
    "SASA_Polymer1 = []#surface area\n",
    "Old_SASA_Polymer1 = []\n",
    "DP_Polymer1 =[]#length\n",
    "for y in range(1,11,1):\n",
    "    filename = comp+\"_\"+str(y)+\"mer\"+\".mol\" #name of mol file\n",
    "    print(Polymer1(y))\n",
    "    best_conf_values = GetLogPAndSASAForBestConformer(Polymer1(y), numConfs=100, numThreads=5, randomSeed=1, filename=filename)\n",
    "    LogP_Polymer1.append(best_conf_values[0])\n",
    "    SASA_Polymer1.append(best_conf_values[1])\n",
    "    Old_SASA_Polymer1.append(sasa_from_smiles(Polymer1(y)))\n",
    "    DP_Polymer1.append(y)\n",
    "    y +=1\n",
    "print(\"length of oligomers:\", DP_Polymer1)\n",
    "print(\"LogP values:\", LogP_Polymer1)\n",
    "print(\"Surface areas:\", SASA_Polymer1)\n",
    "print(\"Old surface areas:\", Old_SASA_Polymer1)"
   ]
  },
  {
   "cell_type": "code",
   "execution_count": 17,
   "metadata": {
    "collapsed": false
   },
   "outputs": [
    {
     "name": "stdout",
     "output_type": "stream",
     "text": [
      "LogP/SA: [0.0051 0.0047 0.0045 0.0043 0.0043 0.0042 0.0041 0.0041 0.0041 0.0041]\n"
     ]
    }
   ],
   "source": [
    "import numpy as np\n",
    "LogP_SASA = np.divide(LogP_Polymer1,SASA_Polymer1)\n",
    "print(\"LogP/SA:\", LogP_SASA.round(4))"
   ]
  },
  {
   "cell_type": "code",
   "execution_count": 18,
   "metadata": {
    "collapsed": false
   },
   "outputs": [
   ],
   "source": [
    "\n",
    "\n",
    "# Additional values for comparison purposes\n",
    "# Feel free to delete this for performance reasons when you're done with the comparison table below\n",
    "#create an array of LogP values\n",
    "#and SASA values\n",
    "#LogP_Polymer1 = []#LogP\n",
    "#SASA_Polymer_2DArray = []#surface area\n",
    "#DP_Polymer1 =[]#length\n",
    "#for y in range(2,13,2):\n",
    "#    print(Polymer1(y))\n",
    "#    best_conf_value_100 = GetLogPAndSASAForBestConformer(Polymer1(y), numConfs=100, numThreads=5, randomSeed=1)\n",
    "#    LogP_Polymer1.append(best_conf_value_100[0])\n",
    "#    SASA_Polymer1_100.append(best_conf_value_100[1])\n",
    "#    SASA_Polymer1_200.app\n",
    "#    DP_Polymer1.append(y)\n",
    "#    y +=1\n",
    "#print(\"length of oligomers:\", DP_Polymer1)\n",
    "#print(\"LogP values:\", LogP_Polymer1)\n",
    "#print(\"Surface areas:\", SASA_Polymer1)\n",
    "#print(\"Old surface areas:\", Old_SASA_Polymer1)"
   ]
  },
  {
   "cell_type": "code",
   "execution_count": 19,
   "metadata": {
    "collapsed": false
   },
   "outputs": [
    {
     "data": {
      "image/png": "[encoded data removed]",
      "text/plain": [
       "<Figure size 432x288 with 1 Axes>"
      ]
     },
     "execution_count": 19,
     "metadata": {
      "needs_background": "light"
     },
     "output_type": "execute_result"
    }
   ],
   "source": [
    "import matplotlib.pyplot as plt\n",
    "import numpy as np\n",
    "%matplotlib inline\n",
    "\n",
    "plt.scatter(DP_Polymer1,(np.divide(LogP_Polymer1,SASA_Polymer1)), color = 'red')\n",
    "plt.ylabel('Log$P$/SA')\n",
    "plt.xlabel('Number of monomers (n)')\n",
    "plt.show()"
   ]
  },
  {
   "cell_type": "code",
   "execution_count": 20,
   "metadata": {
    "collapsed": false
   },
   "outputs": [
    {
     "data": {
      "image/png": "[encoded data removed]",
      "text/plain": [
       "<Figure size 432x288 with 1 Axes>"
      ]
     },
     "execution_count": 20,
     "metadata": {
      "needs_background": "light"
     },
     "output_type": "execute_result"
    }
   ],
   "source": [
    "# Graph old and new values on the same axes\n",
    "# Old SASA = red, new SASA = blue\n",
    "mpl_color='tab:red'\n",
    "fig, mpl_logp = plt.subplots()\n",
    "mpl_logp.set_xlabel('Number of monomers (n)')\n",
    "mpl_logp.set_ylabel('Log$P$/SA')\n",
    "mpl_logp.scatter(DP_Polymer1,np.divide(LogP_Polymer1,SASA_Polymer1),color=mpl_color)\n",
    "mpl_logp.scatter(DP_Polymer1,np.divide(LogP_Polymer1,Old_SASA_Polymer1),color='tab:blue')\n",
    "mpl_logp.tick_params(axis='y',labelcolor=mpl_color)\n",
    "\n",
    "fig.tight_layout()\n",
    "plt.show()"
   ]
  },
  {
   "cell_type": "code",
   "execution_count": 21,
   "metadata": {
    "collapsed": false
   },
   "outputs": [
    {
     "name": "stdout",
     "output_type": "stream",
     "text": [
      "CCCCCC(=O)NCCCCCC(=O)N\n"
     ]
    },
    {
     "name": "stdout",
     "output_type": "stream",
     "text": [
      "Found 10 conformations.\n",
      "Best conformer ID is 1.\n",
      "CCCCCC(=O)NCCCCCC(=O)NCCCCCC(=O)NCCCCCC(=O)N\n"
     ]
    },
    {
     "name": "stdout",
     "output_type": "stream",
     "text": [
      "Found 10 conformations.\n",
      "Best conformer ID is 4.\n",
      "CCCCCC(=O)NCCCCCC(=O)NCCCCCC(=O)NCCCCCC(=O)NCCCCCC(=O)NCCCCCC(=O)N\n"
     ]
    },
    {
     "name": "stdout",
     "output_type": "stream",
     "text": [
      "Found 10 conformations.\n",
      "Best conformer ID is 6.\n",
      "CCCCCC(=O)NCCCCCC(=O)NCCCCCC(=O)NCCCCCC(=O)NCCCCCC(=O)NCCCCCC(=O)NCCCCCC(=O)NCCCCCC(=O)N\n"
     ]
    },
    {
     "name": "stdout",
     "output_type": "stream",
     "text": [
      "Found 8 conformations.\n",
      "Best conformer ID is 7.\n",
      "CCCCCC(=O)NCCCCCC(=O)NCCCCCC(=O)NCCCCCC(=O)NCCCCCC(=O)NCCCCCC(=O)NCCCCCC(=O)NCCCCCC(=O)NCCCCCC(=O)NCCCCCC(=O)N\n"
     ]
    },
    {
     "name": "stdout",
     "output_type": "stream",
     "text": [
      "Found 2 conformations.\n",
      "Best conformer ID is 0.\n",
      "CCCCCC(=O)NCCCCCC(=O)NCCCCCC(=O)NCCCCCC(=O)NCCCCCC(=O)NCCCCCC(=O)NCCCCCC(=O)NCCCCCC(=O)NCCCCCC(=O)NCCCCCC(=O)NCCCCCC(=O)NCCCCCC(=O)N\n"
     ]
    },
    {
     "name": "stdout",
     "output_type": "stream",
     "text": [
      "Found 0 conformations.\n",
      "[0.004720196476679136, 0.004246350434826342, 0.004227962045300323, 0.004119244870747546, 0.00409074460181928, 0.0]\n"
     ]
    },
    {
     "name": "stdout",
     "output_type": "stream",
     "text": [
      "CCCCCC(=O)NCCCCCC(=O)N\n"
     ]
    },
    {
     "name": "stdout",
     "output_type": "stream",
     "text": [
      "Found 25 conformations.\n",
      "Best conformer ID is 1.\n",
      "CCCCCC(=O)NCCCCCC(=O)NCCCCCC(=O)NCCCCCC(=O)N\n"
     ]
    },
    {
     "name": "stdout",
     "output_type": "stream",
     "text": [
      "Found 25 conformations.\n",
      "Best conformer ID is 20.\n",
      "CCCCCC(=O)NCCCCCC(=O)NCCCCCC(=O)NCCCCCC(=O)NCCCCCC(=O)NCCCCCC(=O)N\n"
     ]
    },
    {
     "name": "stdout",
     "output_type": "stream",
     "text": [
      "Found 25 conformations.\n",
      "Best conformer ID is 6.\n",
      "CCCCCC(=O)NCCCCCC(=O)NCCCCCC(=O)NCCCCCC(=O)NCCCCCC(=O)NCCCCCC(=O)NCCCCCC(=O)NCCCCCC(=O)N\n"
     ]
    },
    {
     "name": "stdout",
     "output_type": "stream",
     "text": [
      "Found 20 conformations.\n",
      "Best conformer ID is 7.\n",
      "CCCCCC(=O)NCCCCCC(=O)NCCCCCC(=O)NCCCCCC(=O)NCCCCCC(=O)NCCCCCC(=O)NCCCCCC(=O)NCCCCCC(=O)NCCCCCC(=O)NCCCCCC(=O)N\n"
     ]
    },
    {
     "name": "stdout",
     "output_type": "stream",
     "text": [
      "Found 3 conformations.\n",
      "Best conformer ID is 2.\n",
      "CCCCCC(=O)NCCCCCC(=O)NCCCCCC(=O)NCCCCCC(=O)NCCCCCC(=O)NCCCCCC(=O)NCCCCCC(=O)NCCCCCC(=O)NCCCCCC(=O)NCCCCCC(=O)NCCCCCC(=O)NCCCCCC(=O)N\n"
     ]
    },
    {
     "name": "stdout",
     "output_type": "stream",
     "text": [
      "Found 0 conformations.\n",
      "[0.004720196476679136, 0.004267052381379993, 0.004227962045300323, 0.004119244870747546, 0.004053838884898611, 0.0]\n"
     ]
    },
    {
     "name": "stdout",
     "output_type": "stream",
     "text": [
      "CCCCCC(=O)NCCCCCC(=O)N\n"
     ]
    },
    {
     "name": "stdout",
     "output_type": "stream",
     "text": [
      "Found 50 conformations.\n",
      "Best conformer ID is 1.\n",
      "CCCCCC(=O)NCCCCCC(=O)NCCCCCC(=O)NCCCCCC(=O)N\n"
     ]
    },
    {
     "name": "stdout",
     "output_type": "stream",
     "text": [
      "Found 50 conformations.\n",
      "Best conformer ID is 27.\n",
      "CCCCCC(=O)NCCCCCC(=O)NCCCCCC(=O)NCCCCCC(=O)NCCCCCC(=O)NCCCCCC(=O)N\n"
     ]
    },
    {
     "name": "stdout",
     "output_type": "stream",
     "text": [
      "Found 50 conformations.\n",
      "Best conformer ID is 37.\n",
      "CCCCCC(=O)NCCCCCC(=O)NCCCCCC(=O)NCCCCCC(=O)NCCCCCC(=O)NCCCCCC(=O)NCCCCCC(=O)NCCCCCC(=O)N\n"
     ]
    },
    {
     "name": "stdout",
     "output_type": "stream",
     "text": [
      "Found 43 conformations.\n",
      "Best conformer ID is 7.\n",
      "CCCCCC(=O)NCCCCCC(=O)NCCCCCC(=O)NCCCCCC(=O)NCCCCCC(=O)NCCCCCC(=O)NCCCCCC(=O)NCCCCCC(=O)NCCCCCC(=O)NCCCCCC(=O)N\n"
     ]
    },
    {
     "name": "stdout",
     "output_type": "stream",
     "text": [
      "Found 8 conformations.\n",
      "Best conformer ID is 2.\n",
      "CCCCCC(=O)NCCCCCC(=O)NCCCCCC(=O)NCCCCCC(=O)NCCCCCC(=O)NCCCCCC(=O)NCCCCCC(=O)NCCCCCC(=O)NCCCCCC(=O)NCCCCCC(=O)NCCCCCC(=O)NCCCCCC(=O)N\n"
     ]
    },
    {
     "name": "stdout",
     "output_type": "stream",
     "text": [
      "Found 1 conformations.\n",
      "Best conformer ID is 0.\n",
      "[0.004720196476679136, 0.004324074229735661, 0.0042377313504775764, 0.004119244870747546, 0.004053838884898611, 0.004064006290956566]\n"
     ]
    },
    {
     "name": "stdout",
     "output_type": "stream",
     "text": [
      "CCCCCC(=O)NCCCCCC(=O)N\n"
     ]
    },
    {
     "name": "stdout",
     "output_type": "stream",
     "text": [
      "Found 100 conformations.\n",
      "Best conformer ID is 73.\n",
      "CCCCCC(=O)NCCCCCC(=O)NCCCCCC(=O)NCCCCCC(=O)N\n"
     ]
    },
    {
     "name": "stdout",
     "output_type": "stream",
     "text": [
      "Found 100 conformations.\n",
      "Best conformer ID is 58.\n",
      "CCCCCC(=O)NCCCCCC(=O)NCCCCCC(=O)NCCCCCC(=O)NCCCCCC(=O)NCCCCCC(=O)N\n"
     ]
    },
    {
     "name": "stdout",
     "output_type": "stream",
     "text": [
      "Found 100 conformations.\n",
      "Best conformer ID is 37.\n",
      "CCCCCC(=O)NCCCCCC(=O)NCCCCCC(=O)NCCCCCC(=O)NCCCCCC(=O)NCCCCCC(=O)NCCCCCC(=O)NCCCCCC(=O)N\n"
     ]
    },
    {
     "name": "stdout",
     "output_type": "stream",
     "text": [
      "Found 84 conformations.\n",
      "Best conformer ID is 7.\n",
      "CCCCCC(=O)NCCCCCC(=O)NCCCCCC(=O)NCCCCCC(=O)NCCCCCC(=O)NCCCCCC(=O)NCCCCCC(=O)NCCCCCC(=O)NCCCCCC(=O)NCCCCCC(=O)N\n"
     ]
    },
    {
     "name": "stdout",
     "output_type": "stream",
     "text": [
      "Found 21 conformations.\n",
      "Best conformer ID is 16.\n",
      "CCCCCC(=O)NCCCCCC(=O)NCCCCCC(=O)NCCCCCC(=O)NCCCCCC(=O)NCCCCCC(=O)NCCCCCC(=O)NCCCCCC(=O)NCCCCCC(=O)NCCCCCC(=O)NCCCCCC(=O)NCCCCCC(=O)N\n"
     ]
    },
    {
     "name": "stdout",
     "output_type": "stream",
     "text": [
      "Found 1 conformations.\n",
      "Best conformer ID is 0.\n",
      "[0.004674166135247044, 0.004273703312998822, 0.0042377313504775764, 0.004119244870747546, 0.004063574884699874, 0.004064006290956566]\n"
     ]
    },
    {
     "name": "stdout",
     "output_type": "stream",
     "text": [
      "CCCCCC(=O)NCCCCCC(=O)N\n"
     ]
    },
    {
     "name": "stdout",
     "output_type": "stream",
     "text": [
      "Found 150 conformations.\n",
      "Best conformer ID is 73.\n",
      "CCCCCC(=O)NCCCCCC(=O)NCCCCCC(=O)NCCCCCC(=O)N\n"
     ]
    },
    {
     "name": "stdout",
     "output_type": "stream",
     "text": [
      "Found 150 conformations.\n",
      "Best conformer ID is 104.\n",
      "CCCCCC(=O)NCCCCCC(=O)NCCCCCC(=O)NCCCCCC(=O)NCCCCCC(=O)NCCCCCC(=O)N\n"
     ]
    },
    {
     "name": "stdout",
     "output_type": "stream",
     "text": [
      "Found 150 conformations.\n",
      "Best conformer ID is 37.\n",
      "CCCCCC(=O)NCCCCCC(=O)NCCCCCC(=O)NCCCCCC(=O)NCCCCCC(=O)NCCCCCC(=O)NCCCCCC(=O)NCCCCCC(=O)N\n"
     ]
    },
    {
     "name": "stdout",
     "output_type": "stream",
     "text": [
      "Found 127 conformations.\n",
      "Best conformer ID is 7.\n",
      "CCCCCC(=O)NCCCCCC(=O)NCCCCCC(=O)NCCCCCC(=O)NCCCCCC(=O)NCCCCCC(=O)NCCCCCC(=O)NCCCCCC(=O)NCCCCCC(=O)NCCCCCC(=O)N\n"
     ]
    },
    {
     "name": "stdout",
     "output_type": "stream",
     "text": [
      "Found 28 conformations.\n",
      "Best conformer ID is 16.\n",
      "CCCCCC(=O)NCCCCCC(=O)NCCCCCC(=O)NCCCCCC(=O)NCCCCCC(=O)NCCCCCC(=O)NCCCCCC(=O)NCCCCCC(=O)NCCCCCC(=O)NCCCCCC(=O)NCCCCCC(=O)NCCCCCC(=O)N\n"
     ]
    },
    {
     "name": "stdout",
     "output_type": "stream",
     "text": [
      "Found 3 conformations.\n",
      "Best conformer ID is 0.\n",
      "[0.004674166135247044, 0.004396589427011989, 0.0042377313504775764, 0.004119244870747546, 0.004063574884699874, 0.004064006290956566]\n"
     ]
    },
    {
     "name": "stdout",
     "output_type": "stream",
     "text": [
      "CCCCCC(=O)NCCCCCC(=O)N\n"
     ]
    },
    {
     "name": "stdout",
     "output_type": "stream",
     "text": [
      "Found 200 conformations.\n",
      "Best conformer ID is 73.\n",
      "CCCCCC(=O)NCCCCCC(=O)NCCCCCC(=O)NCCCCCC(=O)N\n"
     ]
    },
    {
     "name": "stdout",
     "output_type": "stream",
     "text": [
      "Found 200 conformations.\n",
      "Best conformer ID is 104.\n",
      "CCCCCC(=O)NCCCCCC(=O)NCCCCCC(=O)NCCCCCC(=O)NCCCCCC(=O)NCCCCCC(=O)N\n"
     ]
    },
    {
     "name": "stdout",
     "output_type": "stream",
     "text": [
      "Found 200 conformations.\n",
      "Best conformer ID is 37.\n",
      "CCCCCC(=O)NCCCCCC(=O)NCCCCCC(=O)NCCCCCC(=O)NCCCCCC(=O)NCCCCCC(=O)NCCCCCC(=O)NCCCCCC(=O)N\n"
     ]
    },
    {
     "name": "stdout",
     "output_type": "stream",
     "text": [
      "Found 162 conformations.\n",
      "Best conformer ID is 7.\n",
      "CCCCCC(=O)NCCCCCC(=O)NCCCCCC(=O)NCCCCCC(=O)NCCCCCC(=O)NCCCCCC(=O)NCCCCCC(=O)NCCCCCC(=O)NCCCCCC(=O)NCCCCCC(=O)N\n"
     ]
    },
    {
     "name": "stdout",
     "output_type": "stream",
     "text": [
      "Found 35 conformations.\n",
      "Best conformer ID is 16.\n",
      "CCCCCC(=O)NCCCCCC(=O)NCCCCCC(=O)NCCCCCC(=O)NCCCCCC(=O)NCCCCCC(=O)NCCCCCC(=O)NCCCCCC(=O)NCCCCCC(=O)NCCCCCC(=O)NCCCCCC(=O)NCCCCCC(=O)N\n"
     ]
    },
    {
     "name": "stdout",
     "output_type": "stream",
     "text": [
      "Found 4 conformations.\n",
      "Best conformer ID is 0.\n",
      "[0.004674166135247044, 0.004396589427011989, 0.0042377313504775764, 0.004119244870747546, 0.004063574884699874, 0.004064006290956566]\n",
      "[[0.004720196476679136, 0.004246350434826342, 0.004227962045300323, 0.004119244870747546, 0.00409074460181928, 0.0], [0.004720196476679136, 0.004267052381379993, 0.004227962045300323, 0.004119244870747546, 0.004053838884898611, 0.0], [0.004720196476679136, 0.004324074229735661, 0.0042377313504775764, 0.004119244870747546, 0.004053838884898611, 0.004064006290956566], [0.004674166135247044, 0.004273703312998822, 0.0042377313504775764, 0.004119244870747546, 0.004063574884699874, 0.004064006290956566], [0.004674166135247044, 0.004396589427011989, 0.0042377313504775764, 0.004119244870747546, 0.004063574884699874, 0.004064006290956566], [0.004674166135247044, 0.004396589427011989, 0.0042377313504775764, 0.004119244870747546, 0.004063574884699874, 0.004064006290956566]]\n"
     ]
    }
   ],
   "source": [
    "# Show the results for different numbers of conformers\n",
    "# <insert joke about rainbow tables here>\n",
    "# Red = 0, orange = 10, yellow = 25, green = 50, blue = 100, purple = 200\n",
    "\n",
    "test_conformers = [10, 25, 50, 100, 150, 200]\n",
    "\n",
    "testdata = [[], [], [], [], [], []]\n",
    "\n",
    "\n",
    "\n",
    "LogP_Polymer1 = []#LogP\n",
    "SASA_Polymer1 = []#surface area\n",
    "Old_SASA_Polymer1 = []\n",
    "DP_Polymer1 =[0, 0, 0, 0, 0, 0]#length\n",
    "for i in range(len(test_conformers)):\n",
    "    Old_SASA_Polymer1.append(sasa_from_smiles(Polymer1(y)))\n",
    "    testdata[i] = [0, 0, 0, 0, 0, 0]\n",
    "    j = 0\n",
    "    for y in range(2,13,2):\n",
    "        print(Polymer1(y))\n",
    "        holding = GetLogPAndSASAForBestConformer(Polymer1(y), numConfs=test_conformers[i], numThreads=5, randomSeed=1,\n",
    "                                                returnMinusOne=True)\n",
    "        testdata[i][j] = (holding[0]/holding[1])\n",
    "        j += 1\n",
    "        if DP_Polymer1[i] == 0:\n",
    "            DP_Polymer1.append(y)\n",
    "    print(testdata[i])\n",
    "print(testdata)\n",
    "\n",
    "DP_Polymer1 = [2, 4, 6, 8, 10, 12]\n",
    "\n",
    "\n"
   ]
  },
  {
   "cell_type": "code",
   "execution_count": 22,
   "metadata": {
    "collapsed": false
   },
   "outputs": [
   ],
   "source": [
    "# now actually graph the data\n",
    "createComparison = False\n",
    "if createComparison is True:\n",
    "    DP_Polymer1 = [2, 4, 6, 8, 10, 12]\n",
    "    Old_SASA_Polymer1 = []\n",
    "    for i in range(len(DP_Polymer1)):\n",
    "        mol = Chem.MolFromSmiles(Polymer1(int(DP_Polymer1[i])))\n",
    "        mol_with_H = Chem.AddHs(mol)\n",
    "        Old_SASA_Polymer1.append(Descriptors.MolLogP(mol_with_H)/sasa_from_smiles(Polymer1(int(DP_Polymer1[i]))))\n",
    "\n",
    "    fig, mpl_logp = plt.subplots()\n",
    "    mpl_logp.set_xlabel('DP')\n",
    "    mpl_logp.set_ylabel('LogP/SA')\n",
    "    mpl_logp.scatter(DP_Polymer1,Old_SASA_Polymer1,color='tab:red')\n",
    "    mpl_logp.scatter(DP_Polymer1,testdata[0],color='tab:orange')\n",
    "    mpl_logp.scatter(DP_Polymer1,testdata[1],color='tab:olive')\n",
    "    mpl_logp.scatter(DP_Polymer1,testdata[2],color='tab:green')\n",
    "    mpl_logp.scatter(DP_Polymer1,testdata[3],color='tab:cyan')\n",
    "    mpl_logp.scatter(DP_Polymer1,testdata[4],color='tab:blue')\n",
    "    mpl_logp.scatter(DP_Polymer1,testdata[5],color='tab:purple')\n",
    "    mpl_logp.tick_params(axis='y')\n",
    "\n",
    "    fig.tight_layout()\n",
    "    plt.show()"
   ]
  },
  {
   "cell_type": "code",
   "execution_count": 23,
   "metadata": {
    "collapsed": false
   },
   "outputs": [
    {
     "ename": "ValueError",
     "evalue": "x and y must be the same size",
     "output_type": "error",
     "traceback": [
      "\u001b[0;31m---------------------------------------------------------------------------\u001b[0m",
      "\u001b[0;31mValueError\u001b[0m                                Traceback (most recent call last)",
      "\u001b[0;32m/tmp/ipykernel_3845/3370044734.py\u001b[0m in \u001b[0;36m<module>\u001b[0;34m\u001b[0m\n\u001b[1;32m      4\u001b[0m \u001b[0mmpl_logp\u001b[0m\u001b[0;34m.\u001b[0m\u001b[0mset_xlabel\u001b[0m\u001b[0;34m(\u001b[0m\u001b[0;34m'DP'\u001b[0m\u001b[0;34m)\u001b[0m\u001b[0;34m\u001b[0m\u001b[0;34m\u001b[0m\u001b[0m\n\u001b[1;32m      5\u001b[0m \u001b[0mmpl_logp\u001b[0m\u001b[0;34m.\u001b[0m\u001b[0mset_ylabel\u001b[0m\u001b[0;34m(\u001b[0m\u001b[0;34m'SASA'\u001b[0m\u001b[0;34m)\u001b[0m\u001b[0;34m\u001b[0m\u001b[0;34m\u001b[0m\u001b[0m\n\u001b[0;32m----> 6\u001b[0;31m \u001b[0mmpl_logp\u001b[0m\u001b[0;34m.\u001b[0m\u001b[0mscatter\u001b[0m\u001b[0;34m(\u001b[0m\u001b[0mDP_Polymer1\u001b[0m\u001b[0;34m,\u001b[0m\u001b[0mSASA_Polymer1\u001b[0m\u001b[0;34m,\u001b[0m\u001b[0mcolor\u001b[0m\u001b[0;34m=\u001b[0m\u001b[0;34m'tab:red'\u001b[0m\u001b[0;34m)\u001b[0m\u001b[0;34m\u001b[0m\u001b[0;34m\u001b[0m\u001b[0m\n\u001b[0m\u001b[1;32m      7\u001b[0m \u001b[0mmpl_logp\u001b[0m\u001b[0;34m.\u001b[0m\u001b[0mscatter\u001b[0m\u001b[0;34m(\u001b[0m\u001b[0mDP_Polymer1\u001b[0m\u001b[0;34m,\u001b[0m\u001b[0mOld_SASA_Polymer1\u001b[0m\u001b[0;34m,\u001b[0m\u001b[0mcolor\u001b[0m\u001b[0;34m=\u001b[0m\u001b[0;34m'tab:blue'\u001b[0m\u001b[0;34m)\u001b[0m\u001b[0;34m\u001b[0m\u001b[0;34m\u001b[0m\u001b[0m\n\u001b[1;32m      8\u001b[0m \u001b[0mmpl_logp\u001b[0m\u001b[0;34m.\u001b[0m\u001b[0mtick_params\u001b[0m\u001b[0;34m(\u001b[0m\u001b[0maxis\u001b[0m\u001b[0;34m=\u001b[0m\u001b[0;34m'y'\u001b[0m\u001b[0;34m,\u001b[0m\u001b[0mlabelcolor\u001b[0m\u001b[0;34m=\u001b[0m\u001b[0mmpl_color\u001b[0m\u001b[0;34m)\u001b[0m\u001b[0;34m\u001b[0m\u001b[0;34m\u001b[0m\u001b[0m\n",
      "\u001b[0;32m/anaconda3/envs/my-rdkit-env/lib/python3.7/site-packages/matplotlib/__init__.py\u001b[0m in \u001b[0;36minner\u001b[0;34m(ax, data, *args, **kwargs)\u001b[0m\n\u001b[1;32m   1410\u001b[0m     \u001b[0;32mdef\u001b[0m \u001b[0minner\u001b[0m\u001b[0;34m(\u001b[0m\u001b[0max\u001b[0m\u001b[0;34m,\u001b[0m \u001b[0;34m*\u001b[0m\u001b[0margs\u001b[0m\u001b[0;34m,\u001b[0m \u001b[0mdata\u001b[0m\u001b[0;34m=\u001b[0m\u001b[0;32mNone\u001b[0m\u001b[0;34m,\u001b[0m \u001b[0;34m**\u001b[0m\u001b[0mkwargs\u001b[0m\u001b[0;34m)\u001b[0m\u001b[0;34m:\u001b[0m\u001b[0;34m\u001b[0m\u001b[0;34m\u001b[0m\u001b[0m\n\u001b[1;32m   1411\u001b[0m         \u001b[0;32mif\u001b[0m \u001b[0mdata\u001b[0m \u001b[0;32mis\u001b[0m \u001b[0;32mNone\u001b[0m\u001b[0;34m:\u001b[0m\u001b[0;34m\u001b[0m\u001b[0;34m\u001b[0m\u001b[0m\n\u001b[0;32m-> 1412\u001b[0;31m             \u001b[0;32mreturn\u001b[0m \u001b[0mfunc\u001b[0m\u001b[0;34m(\u001b[0m\u001b[0max\u001b[0m\u001b[0;34m,\u001b[0m \u001b[0;34m*\u001b[0m\u001b[0mmap\u001b[0m\u001b[0;34m(\u001b[0m\u001b[0msanitize_sequence\u001b[0m\u001b[0;34m,\u001b[0m \u001b[0margs\u001b[0m\u001b[0;34m)\u001b[0m\u001b[0;34m,\u001b[0m \u001b[0;34m**\u001b[0m\u001b[0mkwargs\u001b[0m\u001b[0;34m)\u001b[0m\u001b[0;34m\u001b[0m\u001b[0;34m\u001b[0m\u001b[0m\n\u001b[0m\u001b[1;32m   1413\u001b[0m \u001b[0;34m\u001b[0m\u001b[0m\n\u001b[1;32m   1414\u001b[0m         \u001b[0mbound\u001b[0m \u001b[0;34m=\u001b[0m \u001b[0mnew_sig\u001b[0m\u001b[0;34m.\u001b[0m\u001b[0mbind\u001b[0m\u001b[0;34m(\u001b[0m\u001b[0max\u001b[0m\u001b[0;34m,\u001b[0m \u001b[0;34m*\u001b[0m\u001b[0margs\u001b[0m\u001b[0;34m,\u001b[0m \u001b[0;34m**\u001b[0m\u001b[0mkwargs\u001b[0m\u001b[0;34m)\u001b[0m\u001b[0;34m\u001b[0m\u001b[0;34m\u001b[0m\u001b[0m\n",
      "\u001b[0;32m/anaconda3/envs/my-rdkit-env/lib/python3.7/site-packages/matplotlib/axes/_axes.py\u001b[0m in \u001b[0;36mscatter\u001b[0;34m(self, x, y, s, c, marker, cmap, norm, vmin, vmax, alpha, linewidths, edgecolors, plotnonfinite, **kwargs)\u001b[0m\n\u001b[1;32m   4321\u001b[0m         \u001b[0my\u001b[0m \u001b[0;34m=\u001b[0m \u001b[0mnp\u001b[0m\u001b[0;34m.\u001b[0m\u001b[0mma\u001b[0m\u001b[0;34m.\u001b[0m\u001b[0mravel\u001b[0m\u001b[0;34m(\u001b[0m\u001b[0my\u001b[0m\u001b[0;34m)\u001b[0m\u001b[0;34m\u001b[0m\u001b[0;34m\u001b[0m\u001b[0m\n\u001b[1;32m   4322\u001b[0m         \u001b[0;32mif\u001b[0m \u001b[0mx\u001b[0m\u001b[0;34m.\u001b[0m\u001b[0msize\u001b[0m \u001b[0;34m!=\u001b[0m \u001b[0my\u001b[0m\u001b[0;34m.\u001b[0m\u001b[0msize\u001b[0m\u001b[0;34m:\u001b[0m\u001b[0;34m\u001b[0m\u001b[0;34m\u001b[0m\u001b[0m\n\u001b[0;32m-> 4323\u001b[0;31m             \u001b[0;32mraise\u001b[0m \u001b[0mValueError\u001b[0m\u001b[0;34m(\u001b[0m\u001b[0;34m\"x and y must be the same size\"\u001b[0m\u001b[0;34m)\u001b[0m\u001b[0;34m\u001b[0m\u001b[0;34m\u001b[0m\u001b[0m\n\u001b[0m\u001b[1;32m   4324\u001b[0m \u001b[0;34m\u001b[0m\u001b[0m\n\u001b[1;32m   4325\u001b[0m         \u001b[0;32mif\u001b[0m \u001b[0ms\u001b[0m \u001b[0;32mis\u001b[0m \u001b[0;32mNone\u001b[0m\u001b[0;34m:\u001b[0m\u001b[0;34m\u001b[0m\u001b[0;34m\u001b[0m\u001b[0m\n",
      "\u001b[0;31mValueError\u001b[0m: x and y must be the same size"
     ]
    },
    {
     "data": {
      "image/png": "[encoded data removed]",
      "text/plain": [
       "<Figure size 432x288 with 1 Axes>"
      ]
     },
     "execution_count": 23,
     "metadata": {
      "needs_background": "light"
     },
     "output_type": "execute_result"
    }
   ],
   "source": [
    "# Graph just SASA for comparison/curiosity purposes\n",
    "# Old SASA = red, new SASA = blue\n",
    "fig, mpl_logp = plt.subplots()\n",
    "mpl_logp.set_xlabel('DP')\n",
    "mpl_logp.set_ylabel('SASA')\n",
    "mpl_logp.scatter(DP_Polymer1,SASA_Polymer1,color='tab:red')\n",
    "mpl_logp.scatter(DP_Polymer1,Old_SASA_Polymer1,color='tab:blue')\n",
    "mpl_logp.tick_params(axis='y',labelcolor=mpl_color)\n",
    "\n",
    "fig.tight_layout()\n",
    "plt.show()"
   ]
  },
  {
   "cell_type": "code",
   "execution_count": 0,
   "metadata": {
    "collapsed": false
   },
   "outputs": [
   ],
   "source": [
    "# Try to graph both LogP and SASA on the same axes\n",
    "mpl_color='tab:red'\n",
    "fig, mpl_logp = plt.subplots()\n",
    "mpl_logp.set_xlabel('DP')\n",
    "mpl_logp.set_ylabel('LogP')\n",
    "mpl_logp.scatter(DP_Polymer1,LogP_Polymer1,color=mpl_color)\n",
    "mpl_logp.tick_params(axis='y',labelcolor=mpl_color)\n",
    "\n",
    "mpl_sasa = mpl_logp.twinx()\n",
    "\n",
    "mpl_color='tab:blue'\n",
    "mpl_sasa.set_ylabel('SASA')\n",
    "mpl_sasa.scatter(DP_Polymer1,SASA_Polymer1,color=mpl_color)\n",
    "mpl_sasa.tick_params(axis='y',labelcolor=mpl_color)\n",
    "\n",
    "fig.tight_layout()\n",
    "plt.show()"
   ]
  },
  {
   "cell_type": "code",
   "execution_count": 0,
   "metadata": {
    "collapsed": false
   },
   "outputs": [
   ],
   "source": [
    "#Section 3\n",
    "#Workflow involves visually checking to see how well energy minimization worked with MMFF\n",
    "#Can we display energy of conformations?"
   ]
  }
 ],
 "metadata": {
  "kernelspec": {
   "display_name": "Anaconda (RDkit)",
   "language": "python",
   "metadata": {
    "debugger": true
   },
   "name": "my-rdkit-env",
   "resource_dir": "/usr/local/share/jupyter/kernels/my-rdkit-env"
  },
  "language_info": {
   "codemirror_mode": {
    "name": "ipython",
    "version": 3
   },
   "file_extension": ".py",
   "mimetype": "text/x-python",
   "name": "python",
   "nbconvert_exporter": "python",
   "pygments_lexer": "ipython3",
   "version": "3.7.11"
  }
 },
 "nbformat": 4,
 "nbformat_minor": 4
}