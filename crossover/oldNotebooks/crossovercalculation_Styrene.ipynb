{
 "cells": [
  {
   "cell_type": "code",
   "execution_count": 34,
   "metadata": {
    "collapsed": false
   },
   "outputs": [],
   "source": [
    "import sys\n",
    "sys.path.insert(0, \"../crossover\")\n",
    "import functionality as f\n",
    "import crossoverpatchup as c\n"
   ]
  },
  {
   "cell_type": "code",
   "execution_count": 35,
   "metadata": {},
   "outputs": [
    {
     "name": "stdout",
     "output_type": "stream",
     "text": [
      "[2, 3] [11, 10, 9]\n"
     ]
    }
   ],
   "source": [
    "x=[2,3,4,5,6,7,8,9,10,11] #number of monomer units\n",
    "y=[0.01356955, 0.01401028, 0.01426496, 0.01450052, 0.01476517, 0.01485014, 0.01478629, 0.01498735, 0.01489938, 0.01497248] #LogP/SA values for polystyrene\n",
    "\n",
    "y2=[0.0033,0.0037,0.0038,0.0039,0.0042,0.0040,0.0040]\n",
    "c.crossover(x,y,0,1)\n"
   ]
  },
  {
   "cell_type": "code",
   "execution_count": 36,
   "metadata": {
    "collapsed": false
   },
   "outputs": [
    {
     "name": "stdout",
     "output_type": "stream",
     "text": [
      "[1.41421356 1.73205081 2.         2.23606798 2.44948974 2.64575131\n",
      " 2.82842712 3.         3.16227766 3.31662479]\n",
      "[0.69314718 1.09861229 1.38629436 1.60943791 1.79175947 1.94591015\n",
      " 2.07944154 2.19722458 2.30258509 2.39789527]\n"
     ]
    }
   ],
   "source": [
    "import numpy as np\n",
    "x_sqrt = np.sqrt(x)\n",
    "log_x = np.log(x)\n",
    "\n",
    "print(x_sqrt)\n",
    "print(log_x)"
   ]
  },
  {
   "cell_type": "code",
   "execution_count": 37,
   "metadata": {
    "collapsed": false
   },
   "outputs": [
    {
     "name": "stdout",
     "output_type": "stream",
     "text": [
      "[1.4142135623730951] [3.3166247903554, 3.1622776601683795, 3.0]\n"
     ]
    }
   ],
   "source": [
    "c.crossover(x_sqrt, y, 0, 1) #graphing LogP/SA versus N^1/2"
   ]
  },
  {
   "cell_type": "code",
   "execution_count": 38,
   "metadata": {
    "collapsed": false
   },
   "outputs": [
    {
     "name": "stdout",
     "output_type": "stream",
     "text": [
      "[0.6931471805599453, 1.0986122886681098] [2.3978952727983707, 2.302585092994046, 2.1972245773362196]\n"
     ]
    }
   ],
   "source": [
    "c.crossover(log_x, y, 0, 1) #graphing LogP/SA versus LogN"
   ]
  }
 ],
 "metadata": {
  "interpreter": {
   "hash": "9d1794fa44db9ea3ea9450bc114bc07115860d1fdaf16e45976239ef01a53be6"
  },
  "kernelspec": {
   "display_name": "Python 3.9.10 ('my-rdkit-env')",
   "language": "python",
   "name": "python3"
  },
  "language_info": {
   "codemirror_mode": {
    "name": "ipython",
    "version": 3
   },
   "file_extension": ".py",
   "mimetype": "text/x-python",
   "name": "python",
   "nbconvert_exporter": "python",
   "pygments_lexer": "ipython3",
   "version": "3.9.10"
  }
 },
 "nbformat": 4,
 "nbformat_minor": 4
}
