{
 "cells": [
  {
   "cell_type": "code",
   "execution_count": 10,
   "metadata": {
    "collapsed": false
   },
   "outputs": [],
   "source": [
    "import sys\n",
    "sys.path.insert(0, \"../crossover\")\n",
    "import functionality as f\n",
    "import crossoverpatchup as c"
   ]
  },
  {
   "cell_type": "code",
   "execution_count": 11,
   "metadata": {
    "collapsed": false
   },
   "outputs": [],
   "source": [
    "x=[1, 2, 3, 4, 5, 6, 7, 8, 9, 10] #number of monomer units\n",
    "y=[0.0124, 0.0136, 0.014, 0.0143, 0.0145, 0.0148, 0.0149, 0.0148, 0.015, 0.0149] #LogP/SA values for polystyrene"
   ]
  },
  {
   "cell_type": "code",
   "execution_count": 12,
   "metadata": {
    "collapsed": false
   },
   "outputs": [
    {
     "name": "stdout",
     "output_type": "stream",
     "text": [
      "[1, 2, 3] [10, 9, 8]\n"
     ]
    }
   ],
   "source": [
    "c.crossover(x, y, 1)"
   ]
  }
 ],
 "metadata": {
  "interpreter": {
   "hash": "9d1794fa44db9ea3ea9450bc114bc07115860d1fdaf16e45976239ef01a53be6"
  },
  "kernelspec": {
   "display_name": "Python 3.9.10 ('my-rdkit-env')",
   "language": "python",
   "name": "python3"
  },
  "language_info": {
   "codemirror_mode": {
    "name": "ipython",
    "version": 3
   },
   "file_extension": ".py",
   "mimetype": "text/x-python",
   "name": "python",
   "nbconvert_exporter": "python",
   "pygments_lexer": "ipython3",
   "version": "3.9.10"
  }
 },
 "nbformat": 4,
 "nbformat_minor": 4
}
